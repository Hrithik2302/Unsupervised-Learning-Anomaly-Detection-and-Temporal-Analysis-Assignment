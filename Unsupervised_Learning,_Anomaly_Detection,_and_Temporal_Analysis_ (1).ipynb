{
  "nbformat": 4,
  "nbformat_minor": 0,
  "metadata": {
    "colab": {
      "provenance": []
    },
    "kernelspec": {
      "name": "python3",
      "display_name": "Python 3"
    },
    "language_info": {
      "name": "python"
    }
  },
  "cells": [
    {
      "cell_type": "code",
      "execution_count": null,
      "metadata": {
        "id": "HHLvt3x1tHvp"
      },
      "outputs": [],
      "source": []
    },
    {
      "cell_type": "markdown",
      "source": [
        "#Unsupervised Learning, Anomaly Detection, and Temporal Analysis Assignment\n"
      ],
      "metadata": {
        "id": "YCy87AW-tWfb"
      }
    },
    {
      "cell_type": "markdown",
      "source": [
        "Question 1 : What is Dimensionality Reduction? Why is it important in machine learning?\n",
        "\n",
        "Question 2: Name and briefly describe three common dimensionality reduction techniques.\n",
        "\n",
        "Question 3: What is clustering in unsupervised learning? Mention three popular clustering algorithms.\n",
        "\n",
        "Question 4: Explain the concept of anomaly detection and its significance.\n",
        "\n",
        "Question 5: List and briefly describe three types of anomaly detection techniques.\n",
        "\n",
        "Question 6: What is time series analysis? Mention two key components of time series data.\n",
        "\n",
        "Question 7: Describe the difference between seasonality and cyclic behavior in time series.\n",
        "\n",
        "Question 8: Write Python code to perform K-means clustering on a sample dataset. (Include your Python code and output in the code box below.)\n",
        "\n",
        "Question 9: What is inheritance in OOP? Provide a simple example in Python.\n",
        "\n",
        "Question 10: How can time series analysis be used for anomaly detection?\n"
      ],
      "metadata": {
        "id": "cZbYqRTatkXv"
      }
    },
    {
      "cell_type": "markdown",
      "source": [
        "#answers"
      ],
      "metadata": {
        "id": "d2woW3i1txRU"
      }
    },
    {
      "cell_type": "markdown",
      "source": [
        "\n",
        "\n",
        "Answer 1:\n",
        "Dimensionality Reduction is the process of reducing the number of input features while retaining important information. It helps improve model performance, reduce overfitting, and speed up computation.\n",
        "\n",
        "Answer 2:\n",
        "\n",
        "PCA (Principal Component Analysis): Transforms data into components capturing maximum variance.\n",
        "\n",
        "LDA (Linear Discriminant Analysis): Maximizes class separability.\n",
        "\n",
        "t-SNE: Visualizes high-dimensional data in 2D or 3D.\n",
        "\n",
        "Answer 3:\n",
        "Clustering groups similar data points without labels.\n",
        "Common algorithms: K-Means, Hierarchical Clustering, DBSCAN.\n",
        "\n",
        "Answer 4:\n",
        "Anomaly detection identifies data points that deviate significantly from normal patterns; important for fraud detection and fault monitoring.\n",
        "\n",
        "Answer 5:\n",
        "\n",
        "Statistical methods: Detect outliers using distribution.\n",
        "\n",
        "Distance-based: Use distance metrics (e.g., k-NN).\n",
        "\n",
        "Model-based: Use machine learning models (e.g., Isolation Forest).\n",
        "\n",
        "Answer 6:\n",
        "Time series analysis studies data points collected over time.\n",
        "Key components: Trend and Seasonality.\n",
        "\n",
        "Answer 7:\n",
        "\n",
        "Seasonality: Repeats at fixed intervals (e.g., monthly).\n",
        "\n",
        "Cyclic: Irregular fluctuations (e.g., economic cycles)."
      ],
      "metadata": {
        "id": "eXxQD0lxuQM-"
      }
    },
    {
      "cell_type": "code",
      "source": [
        "#ans8\n",
        "from sklearn.cluster import KMeans\n",
        "from sklearn.datasets import make_blobs\n",
        "import pandas as pd\n",
        "\n",
        "# Create sample data\n",
        "X, _ = make_blobs(n_samples=100, centers=3, random_state=42)\n",
        "\n",
        "# Apply K-Means\n",
        "kmeans = KMeans(n_clusters=3, random_state=42)\n",
        "kmeans.fit(X)\n",
        "\n",
        "# Show cluster centers\n",
        "print(\"Cluster Centers:\\n\", kmeans.cluster_centers_)\n",
        "print(\"Labels:\", kmeans.labels_[:10])\n"
      ],
      "metadata": {
        "colab": {
          "base_uri": "https://localhost:8080/"
        },
        "id": "v3xMGeyOuZCb",
        "outputId": "b17eca50-a0d5-400e-9623-728c61e20fda"
      },
      "execution_count": 1,
      "outputs": [
        {
          "output_type": "stream",
          "name": "stdout",
          "text": [
            "Cluster Centers:\n",
            " [[-2.66780392  8.93576069]\n",
            " [-6.95170962 -6.67621669]\n",
            " [ 4.49951001  1.93892013]]\n",
            "Labels: [1 2 0 2 1 2 0 2 2 0]\n"
          ]
        }
      ]
    },
    {
      "cell_type": "code",
      "source": [
        "#ans9\n",
        "class Animal:\n",
        "    def speak(self):\n",
        "        print(\"Animal speaks\")\n",
        "\n",
        "class Dog(Animal):\n",
        "    def bark(self):\n",
        "        print(\"Dog barks\")\n",
        "\n",
        "d = Dog()\n",
        "d.speak()\n",
        "d.bark()\n"
      ],
      "metadata": {
        "colab": {
          "base_uri": "https://localhost:8080/"
        },
        "id": "SdJKj3pWunJP",
        "outputId": "199ad5e9-0a8e-45dc-b20d-d93163dbf096"
      },
      "execution_count": 2,
      "outputs": [
        {
          "output_type": "stream",
          "name": "stdout",
          "text": [
            "Animal speaks\n",
            "Dog barks\n"
          ]
        }
      ]
    },
    {
      "cell_type": "markdown",
      "source": [
        "Answer 10:\n",
        "Time series analysis detects anomalies by identifying unexpected deviations from normal temporal patterns (e.g., sudden spikes or drops)."
      ],
      "metadata": {
        "id": "1pMXIuQ6uwgg"
      }
    }
  ]
}